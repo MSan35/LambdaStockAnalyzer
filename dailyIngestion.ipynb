{
 "cells": [
  {
   "cell_type": "code",
   "execution_count": 1,
   "id": "bc18465d-19e8-4f15-8322-67efbd8e759b",
   "metadata": {},
   "outputs": [
    {
     "name": "stdout",
     "output_type": "stream",
     "text": [
      "Data successfully downloaded in data folder as today_stock_prices_data.json\n"
     ]
    }
   ],
   "source": [
    "import yfinance as yf\n",
    "import pandas as pd\n",
    "from datetime import datetime\n",
    "import json\n",
    "\n",
    "stock_symbols = [\n",
    "    'NVDA',  # Nvidia\n",
    "    'AAPL',  # Apple\n",
    "    'MSFT',  # Microsoft\n",
    "    'AMZN',  # Amazon\n",
    "    'META',  # Meta\n",
    "    'GOOGL',  # Google\n",
    "    'TSLA',  # Tesla\n",
    "    'AVGO',  # Broadcom\n",
    "    'V',  # Visa\n",
    "    'MA',  # Mastercard\n",
    "    'RY',  # Royal Bank of Canada\n",
    "    'TD',  # Toronto-Dominion Bank\n",
    "    'BMO',  # Bank of Montreal\n",
    "    'BCE',  # Bell\n",
    "    'T.TO'  # Telus\n",
    "]\n",
    "\n",
    "stock_prices = []\n",
    "\n",
    "for symbol in stock_symbols:\n",
    "    stock = yf.Ticker(symbol)\n",
    "    stock_info = stock.info\n",
    "\n",
    "    stock_id = symbol\n",
    "    hist = stock.history(period='1d', interval='1d')\n",
    "    for date, row in hist.iterrows():\n",
    "        stock_price = {\n",
    "        \"price_id\": f\"{symbol}_{date.strftime('%Y%m%d')}\",\n",
    "        \"stock_id\": stock_id,\n",
    "        \"date\": date.strftime(\"%Y-%m-%d\"),\n",
    "        \"opening_price\": row[\"Open\"],\n",
    "        \"closing_price\": row[\"Close\"],\n",
    "        \"low_price\": row[\"Low\"],\n",
    "        \"high_price\": row[\"High\"],\n",
    "        \"volume\": row[\"Volume\"]\n",
    "    }\n",
    "        stock_prices.append(stock_price)\n",
    "\n",
    "with open('data/today_stock_prices_data.json', 'w') as json_file:\n",
    "    json.dump(stock_prices, json_file, indent=2)\n",
    "\n",
    "print(\"Data successfully downloaded in data folder as today_stock_prices_data.json\")"
   ]
  },
  {
   "cell_type": "code",
   "execution_count": null,
   "id": "f535553c-5532-4297-ad00-431805c1d6dd",
   "metadata": {},
   "outputs": [],
   "source": []
  }
 ],
 "metadata": {
  "kernelspec": {
   "display_name": "Python 3 (ipykernel)",
   "language": "python",
   "name": "python3"
  },
  "language_info": {
   "codemirror_mode": {
    "name": "ipython",
    "version": 3
   },
   "file_extension": ".py",
   "mimetype": "text/x-python",
   "name": "python",
   "nbconvert_exporter": "python",
   "pygments_lexer": "ipython3",
   "version": "3.12.2"
  }
 },
 "nbformat": 4,
 "nbformat_minor": 5
}
