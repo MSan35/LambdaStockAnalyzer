{
 "cells": [
  {
   "cell_type": "code",
   "execution_count": 1,
   "id": "54806e0b-3472-4457-9c39-3a2056460880",
   "metadata": {},
   "outputs": [
    {
     "name": "stdout",
     "output_type": "stream",
     "text": [
      "{'ResponseMetadata': {'RequestId': '3PMR9KG20JIJ5Q4FS3IKQGJVT3VV4KQNSO5AEMVJF66Q9ASUAAJG', 'HTTPStatusCode': 200, 'HTTPHeaders': {'server': 'Server', 'date': 'Thu, 19 Dec 2024 22:17:05 GMT', 'content-type': 'application/x-amz-json-1.0', 'content-length': '2', 'connection': 'keep-alive', 'x-amzn-requestid': '3PMR9KG20JIJ5Q4FS3IKQGJVT3VV4KQNSO5AEMVJF66Q9ASUAAJG', 'x-amz-crc32': '2745614147'}, 'RetryAttempts': 0}}\n",
      "{'ResponseMetadata': {'RequestId': 'BGATC1MPITD482E8T3RB9URT77VV4KQNSO5AEMVJF66Q9ASUAAJG', 'HTTPStatusCode': 200, 'HTTPHeaders': {'server': 'Server', 'date': 'Thu, 19 Dec 2024 22:17:05 GMT', 'content-type': 'application/x-amz-json-1.0', 'content-length': '2', 'connection': 'keep-alive', 'x-amzn-requestid': 'BGATC1MPITD482E8T3RB9URT77VV4KQNSO5AEMVJF66Q9ASUAAJG', 'x-amz-crc32': '2745614147'}, 'RetryAttempts': 0}}\n",
      "{'ResponseMetadata': {'RequestId': 'NH57DSMIVOBUT2KFJFQSN4044FVV4KQNSO5AEMVJF66Q9ASUAAJG', 'HTTPStatusCode': 200, 'HTTPHeaders': {'server': 'Server', 'date': 'Thu, 19 Dec 2024 22:17:05 GMT', 'content-type': 'application/x-amz-json-1.0', 'content-length': '2', 'connection': 'keep-alive', 'x-amzn-requestid': 'NH57DSMIVOBUT2KFJFQSN4044FVV4KQNSO5AEMVJF66Q9ASUAAJG', 'x-amz-crc32': '2745614147'}, 'RetryAttempts': 0}}\n",
      "{'ResponseMetadata': {'RequestId': '9A07QA2PMD2AR82J27G0GGR0KJVV4KQNSO5AEMVJF66Q9ASUAAJG', 'HTTPStatusCode': 200, 'HTTPHeaders': {'server': 'Server', 'date': 'Thu, 19 Dec 2024 22:17:05 GMT', 'content-type': 'application/x-amz-json-1.0', 'content-length': '2', 'connection': 'keep-alive', 'x-amzn-requestid': '9A07QA2PMD2AR82J27G0GGR0KJVV4KQNSO5AEMVJF66Q9ASUAAJG', 'x-amz-crc32': '2745614147'}, 'RetryAttempts': 0}}\n",
      "{'ResponseMetadata': {'RequestId': '487APRINV9AC1BEOR3RARF7VJFVV4KQNSO5AEMVJF66Q9ASUAAJG', 'HTTPStatusCode': 200, 'HTTPHeaders': {'server': 'Server', 'date': 'Thu, 19 Dec 2024 22:17:05 GMT', 'content-type': 'application/x-amz-json-1.0', 'content-length': '2', 'connection': 'keep-alive', 'x-amzn-requestid': '487APRINV9AC1BEOR3RARF7VJFVV4KQNSO5AEMVJF66Q9ASUAAJG', 'x-amz-crc32': '2745614147'}, 'RetryAttempts': 0}}\n",
      "{'ResponseMetadata': {'RequestId': 'NHECI155SOUFRHG7BHSA9QRTTRVV4KQNSO5AEMVJF66Q9ASUAAJG', 'HTTPStatusCode': 200, 'HTTPHeaders': {'server': 'Server', 'date': 'Thu, 19 Dec 2024 22:17:05 GMT', 'content-type': 'application/x-amz-json-1.0', 'content-length': '2', 'connection': 'keep-alive', 'x-amzn-requestid': 'NHECI155SOUFRHG7BHSA9QRTTRVV4KQNSO5AEMVJF66Q9ASUAAJG', 'x-amz-crc32': '2745614147'}, 'RetryAttempts': 0}}\n",
      "{'ResponseMetadata': {'RequestId': 'JQ7DT9DIOD1UU0ST0KC0DVHKQ7VV4KQNSO5AEMVJF66Q9ASUAAJG', 'HTTPStatusCode': 200, 'HTTPHeaders': {'server': 'Server', 'date': 'Thu, 19 Dec 2024 22:17:05 GMT', 'content-type': 'application/x-amz-json-1.0', 'content-length': '2', 'connection': 'keep-alive', 'x-amzn-requestid': 'JQ7DT9DIOD1UU0ST0KC0DVHKQ7VV4KQNSO5AEMVJF66Q9ASUAAJG', 'x-amz-crc32': '2745614147'}, 'RetryAttempts': 0}}\n",
      "{'ResponseMetadata': {'RequestId': '64BRRHPOD51KJCUIGLJMDUAQNBVV4KQNSO5AEMVJF66Q9ASUAAJG', 'HTTPStatusCode': 200, 'HTTPHeaders': {'server': 'Server', 'date': 'Thu, 19 Dec 2024 22:17:05 GMT', 'content-type': 'application/x-amz-json-1.0', 'content-length': '2', 'connection': 'keep-alive', 'x-amzn-requestid': '64BRRHPOD51KJCUIGLJMDUAQNBVV4KQNSO5AEMVJF66Q9ASUAAJG', 'x-amz-crc32': '2745614147'}, 'RetryAttempts': 0}}\n",
      "{'ResponseMetadata': {'RequestId': 'LQEVAS2M0JSFG3BNOBMDV1I16FVV4KQNSO5AEMVJF66Q9ASUAAJG', 'HTTPStatusCode': 200, 'HTTPHeaders': {'server': 'Server', 'date': 'Thu, 19 Dec 2024 22:17:05 GMT', 'content-type': 'application/x-amz-json-1.0', 'content-length': '2', 'connection': 'keep-alive', 'x-amzn-requestid': 'LQEVAS2M0JSFG3BNOBMDV1I16FVV4KQNSO5AEMVJF66Q9ASUAAJG', 'x-amz-crc32': '2745614147'}, 'RetryAttempts': 0}}\n",
      "{'ResponseMetadata': {'RequestId': 'PQP5TD2DP0U4FNMJVU3NMT0K7NVV4KQNSO5AEMVJF66Q9ASUAAJG', 'HTTPStatusCode': 200, 'HTTPHeaders': {'server': 'Server', 'date': 'Thu, 19 Dec 2024 22:17:05 GMT', 'content-type': 'application/x-amz-json-1.0', 'content-length': '2', 'connection': 'keep-alive', 'x-amzn-requestid': 'PQP5TD2DP0U4FNMJVU3NMT0K7NVV4KQNSO5AEMVJF66Q9ASUAAJG', 'x-amz-crc32': '2745614147'}, 'RetryAttempts': 0}}\n",
      "{'ResponseMetadata': {'RequestId': 'J53C7U8AMSP8T19HG6FH31UFT3VV4KQNSO5AEMVJF66Q9ASUAAJG', 'HTTPStatusCode': 200, 'HTTPHeaders': {'server': 'Server', 'date': 'Thu, 19 Dec 2024 22:17:05 GMT', 'content-type': 'application/x-amz-json-1.0', 'content-length': '2', 'connection': 'keep-alive', 'x-amzn-requestid': 'J53C7U8AMSP8T19HG6FH31UFT3VV4KQNSO5AEMVJF66Q9ASUAAJG', 'x-amz-crc32': '2745614147'}, 'RetryAttempts': 0}}\n",
      "{'ResponseMetadata': {'RequestId': 'T8NPNEDNMO51A0HQSLUBN7KJABVV4KQNSO5AEMVJF66Q9ASUAAJG', 'HTTPStatusCode': 200, 'HTTPHeaders': {'server': 'Server', 'date': 'Thu, 19 Dec 2024 22:17:05 GMT', 'content-type': 'application/x-amz-json-1.0', 'content-length': '2', 'connection': 'keep-alive', 'x-amzn-requestid': 'T8NPNEDNMO51A0HQSLUBN7KJABVV4KQNSO5AEMVJF66Q9ASUAAJG', 'x-amz-crc32': '2745614147'}, 'RetryAttempts': 0}}\n",
      "{'ResponseMetadata': {'RequestId': 'ERT9SPA3QC67IE0ML1UBM72GC7VV4KQNSO5AEMVJF66Q9ASUAAJG', 'HTTPStatusCode': 200, 'HTTPHeaders': {'server': 'Server', 'date': 'Thu, 19 Dec 2024 22:17:05 GMT', 'content-type': 'application/x-amz-json-1.0', 'content-length': '2', 'connection': 'keep-alive', 'x-amzn-requestid': 'ERT9SPA3QC67IE0ML1UBM72GC7VV4KQNSO5AEMVJF66Q9ASUAAJG', 'x-amz-crc32': '2745614147'}, 'RetryAttempts': 0}}\n",
      "{'ResponseMetadata': {'RequestId': 'GJIKC0900ETMOQU56BE3KOBDABVV4KQNSO5AEMVJF66Q9ASUAAJG', 'HTTPStatusCode': 200, 'HTTPHeaders': {'server': 'Server', 'date': 'Thu, 19 Dec 2024 22:17:05 GMT', 'content-type': 'application/x-amz-json-1.0', 'content-length': '2', 'connection': 'keep-alive', 'x-amzn-requestid': 'GJIKC0900ETMOQU56BE3KOBDABVV4KQNSO5AEMVJF66Q9ASUAAJG', 'x-amz-crc32': '2745614147'}, 'RetryAttempts': 0}}\n",
      "{'ResponseMetadata': {'RequestId': '785FU85DCI708OKMPGETG327JRVV4KQNSO5AEMVJF66Q9ASUAAJG', 'HTTPStatusCode': 200, 'HTTPHeaders': {'server': 'Server', 'date': 'Thu, 19 Dec 2024 22:17:05 GMT', 'content-type': 'application/x-amz-json-1.0', 'content-length': '2', 'connection': 'keep-alive', 'x-amzn-requestid': '785FU85DCI708OKMPGETG327JRVV4KQNSO5AEMVJF66Q9ASUAAJG', 'x-amz-crc32': '2745614147'}, 'RetryAttempts': 0}}\n"
     ]
    }
   ],
   "source": [
    "import boto3\n",
    "import json\n",
    "from dotenv import load_dotenv\n",
    "import os\n",
    "\n",
    "\n",
    "def import_json_to_dynamodb(json_file_path):\n",
    "    \n",
    "    # load env variables\n",
    "    load_dotenv()\n",
    "    \n",
    "    aws_access_key_id = os.getenv('AWS_ACCESS_KEY_ID')\n",
    "    aws_secret_access_key = os.getenv('AWS_SECRET_ACCESS_KEY')\n",
    "    aws_default_region = os.getenv('AWS_DEFAULT_REGION')\n",
    "    \n",
    "    dynamodb = boto3.client(\n",
    "        'dynamodb',\n",
    "        region_name=aws_default_region,\n",
    "        aws_access_key_id=aws_access_key_id,\n",
    "        aws_secret_access_key=aws_secret_access_key\n",
    "    )\n",
    "    \n",
    "    with open(json_file_path) as f:\n",
    "        data = json.load(f)\n",
    "    \n",
    "    for item in data:\n",
    "        response = dynamodb.put_item(\n",
    "            TableName='stock_prices',\n",
    "            Item={\n",
    "                'price_id': {'S': item['price_id']},\n",
    "                'stock_id': {'S': item['stock_id']},\n",
    "                'date': {'S': item['date']},\n",
    "                'opening_price': {'N': str(item['opening_price'])},\n",
    "                'closing_price': {'N': str(item['closing_price'])},\n",
    "                'low_price': {'N': str(item['low_price'])},\n",
    "                'high_price': {'N': str(item['high_price'])},\n",
    "                'volume': {'N': str(item['volume'])},\n",
    "            }\n",
    "        )\n",
    "        print(response)\n",
    "\n",
    "import_json_to_dynamodb('data/today_stock_prices_data.json')"
   ]
  },
  {
   "cell_type": "code",
   "execution_count": null,
   "id": "c5d90545-17f0-48c4-98d0-a5d90739a2bd",
   "metadata": {},
   "outputs": [],
   "source": []
  }
 ],
 "metadata": {
  "kernelspec": {
   "display_name": "Python 3 (ipykernel)",
   "language": "python",
   "name": "python3"
  },
  "language_info": {
   "codemirror_mode": {
    "name": "ipython",
    "version": 3
   },
   "file_extension": ".py",
   "mimetype": "text/x-python",
   "name": "python",
   "nbconvert_exporter": "python",
   "pygments_lexer": "ipython3",
   "version": "3.12.2"
  }
 },
 "nbformat": 4,
 "nbformat_minor": 5
}
